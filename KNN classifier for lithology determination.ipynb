{
 "cells": [
  {
   "cell_type": "code",
   "execution_count": 1,
   "metadata": {},
   "outputs": [],
   "source": [
    "%matplotlib inline\n",
    "import numpy as np\n",
    "import matplotlib.pyplot as plt\n",
    "import pandas as pd\n",
    "from sklearn.model_selection import train_test_split"
   ]
  },
  {
   "cell_type": "code",
   "execution_count": 13,
   "metadata": {},
   "outputs": [
    {
     "data": {
      "text/plain": [
       "Text(0, 0.5, 'perm(D)')"
      ]
     },
     "execution_count": 13,
     "metadata": {},
     "output_type": "execute_result"
    },
    {
     "data": {
      "image/png": "[encoded data removed]",
      "text/plain": [
       "<Figure size 432x288 with 1 Axes>"
      ]
     },
     "metadata": {
      "needs_background": "light"
     },
     "output_type": "display_data"
    }
   ],
   "source": [
    "#Data\n",
    "#Sandstone\n",
    "phi_s = np.abs(np.random.normal(0.25,0.01,300))\n",
    "swc_s = np.abs(np.random.normal(0.1,0.01,300))\n",
    "k_s = 8.58102*(phi_s**(4.4))/(swc_s**2)\n",
    "plt.scatter(phi_s,k_s)\n",
    "plt.xlabel('porosity')\n",
    "plt.ylabel('perm(D)')"
   ]
  },
  {
   "cell_type": "code",
   "execution_count": 20,
   "metadata": {},
   "outputs": [
    {
     "data": {
      "text/plain": [
       "Text(0, 0.5, 'perm(D)')"
      ]
     },
     "execution_count": 20,
     "metadata": {},
     "output_type": "execute_result"
    },
    {
     "data": {
      "image/png": "[encoded data removed]",
      "text/plain": [
       "<Figure size 432x288 with 1 Axes>"
      ]
     },
     "metadata": {
      "needs_background": "light"
     },
     "output_type": "display_data"
    }
   ],
   "source": [
    "#Data\n",
    "#Limestone\n",
    "phi_l = np.abs(np.random.normal(0.20,0.01,300))\n",
    "swc_l = np.abs(np.random.normal(0.1,0.01,300))\n",
    "k_l = 8.58102*(phi_l**(4.4))/(swc_l**2)\n",
    "plt.scatter(phi_l,k_l)\n",
    "plt.scatter(phi_s,k_s)\n",
    "plt.xlabel('porosity')\n",
    "plt.ylabel('perm(D)')"
   ]
  },
  {
   "cell_type": "code",
   "execution_count": 25,
   "metadata": {},
   "outputs": [
    {
     "data": {
      "text/html": [
       "<div>\n",
       "<style scoped>\n",
       "    .dataframe tbody tr th:only-of-type {\n",
       "        vertical-align: middle;\n",
       "    }\n",
       "\n",
       "    .dataframe tbody tr th {\n",
       "        vertical-align: top;\n",
       "    }\n",
       "\n",
       "    .dataframe thead th {\n",
       "        text-align: right;\n",
       "    }\n",
       "</style>\n",
       "<table border=\"1\" class=\"dataframe\">\n",
       "  <thead>\n",
       "    <tr style=\"text-align: right;\">\n",
       "      <th></th>\n",
       "      <th>Porosity</th>\n",
       "      <th>Swc</th>\n",
       "      <th>Permeability(D)</th>\n",
       "      <th>label</th>\n",
       "      <th>lithology</th>\n",
       "    </tr>\n",
       "  </thead>\n",
       "  <tbody>\n",
       "    <tr>\n",
       "      <td>0</td>\n",
       "      <td>0.250184</td>\n",
       "      <td>0.099716</td>\n",
       "      <td>1.942464</td>\n",
       "      <td>1</td>\n",
       "      <td>Sandstone</td>\n",
       "    </tr>\n",
       "    <tr>\n",
       "      <td>1</td>\n",
       "      <td>0.236178</td>\n",
       "      <td>0.105787</td>\n",
       "      <td>1.339459</td>\n",
       "      <td>1</td>\n",
       "      <td>Sandstone</td>\n",
       "    </tr>\n",
       "    <tr>\n",
       "      <td>2</td>\n",
       "      <td>0.247057</td>\n",
       "      <td>0.104133</td>\n",
       "      <td>1.685289</td>\n",
       "      <td>1</td>\n",
       "      <td>Sandstone</td>\n",
       "    </tr>\n",
       "    <tr>\n",
       "      <td>3</td>\n",
       "      <td>0.250378</td>\n",
       "      <td>0.122596</td>\n",
       "      <td>1.289471</td>\n",
       "      <td>1</td>\n",
       "      <td>Sandstone</td>\n",
       "    </tr>\n",
       "    <tr>\n",
       "      <td>4</td>\n",
       "      <td>0.251294</td>\n",
       "      <td>0.111392</td>\n",
       "      <td>1.587207</td>\n",
       "      <td>1</td>\n",
       "      <td>Sandstone</td>\n",
       "    </tr>\n",
       "    <tr>\n",
       "      <td>...</td>\n",
       "      <td>...</td>\n",
       "      <td>...</td>\n",
       "      <td>...</td>\n",
       "      <td>...</td>\n",
       "      <td>...</td>\n",
       "    </tr>\n",
       "    <tr>\n",
       "      <td>295</td>\n",
       "      <td>0.240228</td>\n",
       "      <td>0.110528</td>\n",
       "      <td>1.322339</td>\n",
       "      <td>1</td>\n",
       "      <td>Sandstone</td>\n",
       "    </tr>\n",
       "    <tr>\n",
       "      <td>296</td>\n",
       "      <td>0.243476</td>\n",
       "      <td>0.107675</td>\n",
       "      <td>1.478151</td>\n",
       "      <td>1</td>\n",
       "      <td>Sandstone</td>\n",
       "    </tr>\n",
       "    <tr>\n",
       "      <td>297</td>\n",
       "      <td>0.263190</td>\n",
       "      <td>0.117702</td>\n",
       "      <td>1.742459</td>\n",
       "      <td>1</td>\n",
       "      <td>Sandstone</td>\n",
       "    </tr>\n",
       "    <tr>\n",
       "      <td>298</td>\n",
       "      <td>0.254388</td>\n",
       "      <td>0.094682</td>\n",
       "      <td>2.318411</td>\n",
       "      <td>1</td>\n",
       "      <td>Sandstone</td>\n",
       "    </tr>\n",
       "    <tr>\n",
       "      <td>299</td>\n",
       "      <td>0.248328</td>\n",
       "      <td>0.093535</td>\n",
       "      <td>2.136487</td>\n",
       "      <td>1</td>\n",
       "      <td>Sandstone</td>\n",
       "    </tr>\n",
       "  </tbody>\n",
       "</table>\n",
       "<p>300 rows × 5 columns</p>\n",
       "</div>"
      ],
      "text/plain": [
       "     Porosity       Swc  Permeability(D)  label  lithology\n",
       "0    0.250184  0.099716         1.942464      1  Sandstone\n",
       "1    0.236178  0.105787         1.339459      1  Sandstone\n",
       "2    0.247057  0.104133         1.685289      1  Sandstone\n",
       "3    0.250378  0.122596         1.289471      1  Sandstone\n",
       "4    0.251294  0.111392         1.587207      1  Sandstone\n",
       "..        ...       ...              ...    ...        ...\n",
       "295  0.240228  0.110528         1.322339      1  Sandstone\n",
       "296  0.243476  0.107675         1.478151      1  Sandstone\n",
       "297  0.263190  0.117702         1.742459      1  Sandstone\n",
       "298  0.254388  0.094682         2.318411      1  Sandstone\n",
       "299  0.248328  0.093535         2.136487      1  Sandstone\n",
       "\n",
       "[300 rows x 5 columns]"
      ]
     },
     "execution_count": 25,
     "metadata": {},
     "output_type": "execute_result"
    }
   ],
   "source": [
    "#DataFrame Sandstone\n",
    "dfS = pd.DataFrame({'Porosity':phi_s , 'Swc':swc_s, 'Permeability(D)':k_s})\n",
    "dfS['label'] = 1\n",
    "label_s = np.array(dfS['label'])\n",
    "dfS['lithology'] = \"Sandstone\"\n",
    "lithologyS = np.array(dfS['lithology'])\n",
    "dfS"
   ]
  },
  {
   "cell_type": "code",
   "execution_count": 26,
   "metadata": {},
   "outputs": [
    {
     "data": {
      "text/html": [
       "<div>\n",
       "<style scoped>\n",
       "    .dataframe tbody tr th:only-of-type {\n",
       "        vertical-align: middle;\n",
       "    }\n",
       "\n",
       "    .dataframe tbody tr th {\n",
       "        vertical-align: top;\n",
       "    }\n",
       "\n",
       "    .dataframe thead th {\n",
       "        text-align: right;\n",
       "    }\n",
       "</style>\n",
       "<table border=\"1\" class=\"dataframe\">\n",
       "  <thead>\n",
       "    <tr style=\"text-align: right;\">\n",
       "      <th></th>\n",
       "      <th>Porosity</th>\n",
       "      <th>Swc</th>\n",
       "      <th>Permeability(D)</th>\n",
       "      <th>label</th>\n",
       "      <th>lithology</th>\n",
       "    </tr>\n",
       "  </thead>\n",
       "  <tbody>\n",
       "    <tr>\n",
       "      <td>0</td>\n",
       "      <td>0.203321</td>\n",
       "      <td>0.099179</td>\n",
       "      <td>0.788314</td>\n",
       "      <td>2</td>\n",
       "      <td>Limestone</td>\n",
       "    </tr>\n",
       "    <tr>\n",
       "      <td>1</td>\n",
       "      <td>0.221151</td>\n",
       "      <td>0.110040</td>\n",
       "      <td>0.926990</td>\n",
       "      <td>2</td>\n",
       "      <td>Limestone</td>\n",
       "    </tr>\n",
       "    <tr>\n",
       "      <td>2</td>\n",
       "      <td>0.194706</td>\n",
       "      <td>0.091564</td>\n",
       "      <td>0.764469</td>\n",
       "      <td>2</td>\n",
       "      <td>Limestone</td>\n",
       "    </tr>\n",
       "    <tr>\n",
       "      <td>3</td>\n",
       "      <td>0.207976</td>\n",
       "      <td>0.090610</td>\n",
       "      <td>1.043380</td>\n",
       "      <td>2</td>\n",
       "      <td>Limestone</td>\n",
       "    </tr>\n",
       "    <tr>\n",
       "      <td>4</td>\n",
       "      <td>0.223338</td>\n",
       "      <td>0.100791</td>\n",
       "      <td>1.153787</td>\n",
       "      <td>2</td>\n",
       "      <td>Limestone</td>\n",
       "    </tr>\n",
       "    <tr>\n",
       "      <td>...</td>\n",
       "      <td>...</td>\n",
       "      <td>...</td>\n",
       "      <td>...</td>\n",
       "      <td>...</td>\n",
       "      <td>...</td>\n",
       "    </tr>\n",
       "    <tr>\n",
       "      <td>295</td>\n",
       "      <td>0.190843</td>\n",
       "      <td>0.097652</td>\n",
       "      <td>0.615384</td>\n",
       "      <td>2</td>\n",
       "      <td>Limestone</td>\n",
       "    </tr>\n",
       "    <tr>\n",
       "      <td>296</td>\n",
       "      <td>0.204233</td>\n",
       "      <td>0.084917</td>\n",
       "      <td>1.096739</td>\n",
       "      <td>2</td>\n",
       "      <td>Limestone</td>\n",
       "    </tr>\n",
       "    <tr>\n",
       "      <td>297</td>\n",
       "      <td>0.201937</td>\n",
       "      <td>0.108096</td>\n",
       "      <td>0.643976</td>\n",
       "      <td>2</td>\n",
       "      <td>Limestone</td>\n",
       "    </tr>\n",
       "    <tr>\n",
       "      <td>298</td>\n",
       "      <td>0.196418</td>\n",
       "      <td>0.108247</td>\n",
       "      <td>0.568464</td>\n",
       "      <td>2</td>\n",
       "      <td>Limestone</td>\n",
       "    </tr>\n",
       "    <tr>\n",
       "      <td>299</td>\n",
       "      <td>0.202019</td>\n",
       "      <td>0.101442</td>\n",
       "      <td>0.732534</td>\n",
       "      <td>2</td>\n",
       "      <td>Limestone</td>\n",
       "    </tr>\n",
       "  </tbody>\n",
       "</table>\n",
       "<p>300 rows × 5 columns</p>\n",
       "</div>"
      ],
      "text/plain": [
       "     Porosity       Swc  Permeability(D)  label  lithology\n",
       "0    0.203321  0.099179         0.788314      2  Limestone\n",
       "1    0.221151  0.110040         0.926990      2  Limestone\n",
       "2    0.194706  0.091564         0.764469      2  Limestone\n",
       "3    0.207976  0.090610         1.043380      2  Limestone\n",
       "4    0.223338  0.100791         1.153787      2  Limestone\n",
       "..        ...       ...              ...    ...        ...\n",
       "295  0.190843  0.097652         0.615384      2  Limestone\n",
       "296  0.204233  0.084917         1.096739      2  Limestone\n",
       "297  0.201937  0.108096         0.643976      2  Limestone\n",
       "298  0.196418  0.108247         0.568464      2  Limestone\n",
       "299  0.202019  0.101442         0.732534      2  Limestone\n",
       "\n",
       "[300 rows x 5 columns]"
      ]
     },
     "execution_count": 26,
     "metadata": {},
     "output_type": "execute_result"
    }
   ],
   "source": [
    "#DataFrame Limestone\n",
    "dfL = pd.DataFrame({'Porosity':phi_l , 'Swc':swc_l, 'Permeability(D)':k_l})\n",
    "dfL['label'] = 2\n",
    "label_l = np.array(dfL['label'])\n",
    "dfL['lithology'] = \"Limestone\"\n",
    "lithologyL = np.array(dfL['lithology'])\n",
    "dfL"
   ]
  },
  {
   "cell_type": "code",
   "execution_count": 31,
   "metadata": {},
   "outputs": [
    {
     "data": {
      "text/html": [
       "<div>\n",
       "<style scoped>\n",
       "    .dataframe tbody tr th:only-of-type {\n",
       "        vertical-align: middle;\n",
       "    }\n",
       "\n",
       "    .dataframe tbody tr th {\n",
       "        vertical-align: top;\n",
       "    }\n",
       "\n",
       "    .dataframe thead th {\n",
       "        text-align: right;\n",
       "    }\n",
       "</style>\n",
       "<table border=\"1\" class=\"dataframe\">\n",
       "  <thead>\n",
       "    <tr style=\"text-align: right;\">\n",
       "      <th></th>\n",
       "      <th>Porosity</th>\n",
       "      <th>Permeability(D)</th>\n",
       "      <th>Swc</th>\n",
       "      <th>Label</th>\n",
       "      <th>Lithology</th>\n",
       "    </tr>\n",
       "  </thead>\n",
       "  <tbody>\n",
       "    <tr>\n",
       "      <td>213</td>\n",
       "      <td>0.236444</td>\n",
       "      <td>2.050824</td>\n",
       "      <td>0.085706</td>\n",
       "      <td>1</td>\n",
       "      <td>Sandstone</td>\n",
       "    </tr>\n",
       "    <tr>\n",
       "      <td>121</td>\n",
       "      <td>0.256434</td>\n",
       "      <td>1.601177</td>\n",
       "      <td>0.115957</td>\n",
       "      <td>1</td>\n",
       "      <td>Sandstone</td>\n",
       "    </tr>\n",
       "    <tr>\n",
       "      <td>488</td>\n",
       "      <td>0.208567</td>\n",
       "      <td>1.078929</td>\n",
       "      <td>0.089663</td>\n",
       "      <td>2</td>\n",
       "      <td>Limestone</td>\n",
       "    </tr>\n",
       "    <tr>\n",
       "      <td>260</td>\n",
       "      <td>0.264769</td>\n",
       "      <td>3.027217</td>\n",
       "      <td>0.090481</td>\n",
       "      <td>1</td>\n",
       "      <td>Sandstone</td>\n",
       "    </tr>\n",
       "    <tr>\n",
       "      <td>547</td>\n",
       "      <td>0.206530</td>\n",
       "      <td>0.850436</td>\n",
       "      <td>0.098836</td>\n",
       "      <td>2</td>\n",
       "      <td>Limestone</td>\n",
       "    </tr>\n",
       "  </tbody>\n",
       "</table>\n",
       "</div>"
      ],
      "text/plain": [
       "     Porosity  Permeability(D)       Swc  Label  Lithology\n",
       "213  0.236444         2.050824  0.085706      1  Sandstone\n",
       "121  0.256434         1.601177  0.115957      1  Sandstone\n",
       "488  0.208567         1.078929  0.089663      2  Limestone\n",
       "260  0.264769         3.027217  0.090481      1  Sandstone\n",
       "547  0.206530         0.850436  0.098836      2  Limestone"
      ]
     },
     "execution_count": 31,
     "metadata": {},
     "output_type": "execute_result"
    }
   ],
   "source": [
    "#Combining DataFrame of sandstone and limestone and shuffling\n",
    "phi = np.append(phi_s,phi_l)\n",
    "k = np.append(k_s,k_l)\n",
    "swc = np.append(swc_s,swc_l)\n",
    "label = np.append(label_s,label_l)\n",
    "lithology = np.append(lithologyS,lithologyL)\n",
    "df = pd.DataFrame({'Porosity':phi ,  'Permeability(D)':k,'Swc':swc, 'Label':label, \"Lithology\":lithology})\n",
    "#Shuffling data\n",
    "df = df.sample(frac = 1) \n",
    "df.head()"
   ]
  },
  {
   "cell_type": "code",
   "execution_count": 32,
   "metadata": {},
   "outputs": [
    {
     "data": {
      "text/plain": [
       "{1: 'Sandstone', 2: 'Limestone'}"
      ]
     },
     "execution_count": 32,
     "metadata": {},
     "output_type": "execute_result"
    }
   ],
   "source": [
    "#Setting Lithology with Label for Easy Prediction\n",
    "lithology_name = dict(zip(df.Label.unique(), df.Lithology.unique()))   \n",
    "lithology_name"
   ]
  },
  {
   "cell_type": "code",
   "execution_count": 33,
   "metadata": {},
   "outputs": [],
   "source": [
    "#Train, Test Split\n",
    "X = df[['Porosity',  'Permeability(D)']]\n",
    "y = df['Label']\n",
    "\n",
    "# default is 75% / 25% train-test split\n",
    "X_train, X_test, y_train, y_test = train_test_split(X, y, random_state=0)"
   ]
  },
  {
   "cell_type": "code",
   "execution_count": 35,
   "metadata": {},
   "outputs": [
    {
     "data": {
      "text/plain": [
       "KNeighborsClassifier(algorithm='auto', leaf_size=30, metric='minkowski',\n",
       "                     metric_params=None, n_jobs=None, n_neighbors=1, p=2,\n",
       "                     weights='uniform')"
      ]
     },
     "execution_count": 35,
     "metadata": {},
     "output_type": "execute_result"
    }
   ],
   "source": [
    "#KNN Training\n",
    "from sklearn.neighbors import KNeighborsClassifier\n",
    "\n",
    "knn = KNeighborsClassifier(n_neighbors = 1) #nearest neigbour = 1\n",
    "knn.fit(X_train, y_train)"
   ]
  },
  {
   "cell_type": "code",
   "execution_count": 36,
   "metadata": {},
   "outputs": [
    {
     "data": {
      "text/plain": [
       "0.9733333333333334"
      ]
     },
     "execution_count": 36,
     "metadata": {},
     "output_type": "execute_result"
    }
   ],
   "source": [
    "#Accuracy of our classifier\n",
    "knn.score(X_test, y_test)"
   ]
  },
  {
   "cell_type": "code",
   "execution_count": 39,
   "metadata": {},
   "outputs": [
    {
     "name": "stdout",
     "output_type": "stream",
     "text": [
      "Enter the value of porosity: 0.2\n",
      "Enter the value of perm(Darcy): 2\n",
      "The lithology is Sandstone\n"
     ]
    }
   ],
   "source": [
    "#Prediction example\n",
    "a = float(input(\"Enter the value of porosity: \"))\n",
    "b = float(input(\"Enter the value of perm(Darcy): \"))\n",
    "Lith = knn.predict([[a,b]])\n",
    "Name = lithology_name[Lith[0]]\n",
    "print(\"The lithology is\" , Name)"
   ]
  },
  {
   "cell_type": "code",
   "execution_count": 40,
   "metadata": {},
   "outputs": [
    {
     "data": {
      "image/png": "[encoded data removed]",
      "text/plain": [
       "<Figure size 648x432 with 1 Axes>"
      ]
     },
     "metadata": {
      "needs_background": "light"
     },
     "output_type": "display_data"
    }
   ],
   "source": [
    "k_range = range(1,20)\n",
    "scores = []\n",
    "\n",
    "for k in k_range:\n",
    "    knn = KNeighborsClassifier(n_neighbors = k)\n",
    "    knn.fit(X_train, y_train)\n",
    "    scores.append(knn.score(X_test, y_test))\n",
    "\n",
    "plt.figure(figsize = (9,6))\n",
    "plt.xlabel('Nearest neighbors')\n",
    "plt.ylabel('accuracy')\n",
    "plt.grid()\n",
    "plt.plot(k_range, scores,marker = \"x\",color = \"red\")\n",
    "plt.xticks([0,5,10,15,20]);"
   ]
  },
  {
   "cell_type": "code",
   "execution_count": null,
   "metadata": {},
   "outputs": [],
   "source": []
  }
 ],
 "metadata": {
  "kernelspec": {
   "display_name": "Python 3",
   "language": "python",
   "name": "python3"
  },
  "language_info": {
   "codemirror_mode": {
    "name": "ipython",
    "version": 3
   },
   "file_extension": ".py",
   "mimetype": "text/x-python",
   "name": "python",
   "nbconvert_exporter": "python",
   "pygments_lexer": "ipython3",
   "version": "3.7.4"
  }
 },
 "nbformat": 4,
 "nbformat_minor": 2
}
